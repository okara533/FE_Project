{
 "cells": [
  {
   "cell_type": "code",
   "execution_count": 2,
   "id": "9fd9b1a5",
   "metadata": {},
   "outputs": [
    {
     "name": "stdout",
     "output_type": "stream",
     "text": [
      "0--2021-12-29 09:52:48.818592 everything is fine--cardano\n",
      "10000--2021-12-29 09:57:52.929056 everything is fine--cardano\n",
      "20000--2021-12-29 10:03:27.844657 everything is fine--cardano\n",
      "30000--2021-12-29 10:08:51.334399 everything is fine--cardano\n",
      "40000--2021-12-29 10:14:16.352090 everything is fine--cardano\n",
      "50000--2021-12-29 10:19:40.119768 everything is fine--cardano\n",
      "60000--2021-12-29 10:25:57.400254 everything is fine--cardano\n",
      "70000--2021-12-29 10:31:36.013512 everything is fine--cardano\n",
      "80000--2021-12-29 10:37:25.680869 everything is fine--cardano\n",
      "90000--2021-12-29 10:42:55.303101 everything is fine--cardano\n",
      "100000--2021-12-29 10:48:46.324980 everything is fine--cardano\n",
      "----->>>>cardano takes 0:55:59.568904 crawl total crawl 100001<<<<------\n",
      "0--2021-12-29 10:48:48.198848 everything is fine--$bnb\n",
      "10000--2021-12-29 11:00:16.999403 everything is fine--$bnb\n",
      "20000--2021-12-29 11:10:08.900740 everything is fine--$bnb\n",
      "30000--2021-12-29 11:21:30.549975 everything is fine--$bnb\n",
      "40000--2021-12-29 11:36:18.810728 everything is fine--$bnb\n",
      "50000--2021-12-29 11:49:05.772809 everything is fine--$bnb\n",
      "60000--2021-12-29 11:59:59.882531 everything is fine--$bnb\n",
      "----->>>>$bnb takes 1:13:43.003749 crawl total crawl 62095<<<<------\n",
      "0--2021-12-29 12:02:31.391227 everything is fine--binance coin\n",
      "10000--2021-12-29 12:11:17.347449 everything is fine--binance coin\n",
      "20000--2021-12-29 12:24:50.579531 everything is fine--binance coin\n",
      "30000--2021-12-29 12:36:09.886849 everything is fine--binance coin\n",
      "40000--2021-12-29 12:44:27.839455 everything is fine--binance coin\n",
      "----->>>>binance coin takes 0:42:27.105693 crawl total crawl 40711<<<<------\n",
      "0--2021-12-29 12:44:58.389820 everything is fine--$matic\n",
      "10000--2021-12-29 12:50:17.290171 everything is fine--$matic\n",
      "20000--2021-12-29 12:56:07.636170 everything is fine--$matic\n",
      "30000--2021-12-29 13:01:57.357086 everything is fine--$matic\n",
      "40000--2021-12-29 13:07:24.069151 everything is fine--$matic\n",
      "50000--2021-12-29 13:13:39.160485 everything is fine--$matic\n",
      "60000--2021-12-29 13:20:04.629222 everything is fine--$matic\n",
      "70000--2021-12-29 13:26:25.532733 everything is fine--$matic\n",
      "80000--2021-12-29 13:32:55.843047 everything is fine--$matic\n",
      "90000--2021-12-29 13:39:31.513083 everything is fine--$matic\n",
      "100000--2021-12-29 13:45:32.438371 everything is fine--$matic\n",
      "----->>>>$matic takes 1:00:35.781722 crawl total crawl 100001<<<<------\n",
      "0--2021-12-29 13:45:34.318682 everything is fine--polygon\n",
      "10000--2021-12-29 13:53:21.600167 everything is fine--polygon\n",
      "20000--2021-12-29 14:01:55.874051 everything is fine--polygon\n",
      "30000--2021-12-29 14:10:10.026127 everything is fine--polygon\n",
      "40000--2021-12-29 14:18:07.968341 everything is fine--polygon\n",
      "50000--2021-12-29 14:25:08.092055 everything is fine--polygon\n",
      "60000--2021-12-29 14:32:44.216176 everything is fine--polygon\n",
      "70000--2021-12-29 14:40:42.454132 everything is fine--polygon\n",
      "80000--2021-12-29 14:49:23.663455 everything is fine--polygon\n",
      "90000--2021-12-29 14:58:29.413599 everything is fine--polygon\n",
      "100000--2021-12-29 15:07:43.329840 everything is fine--polygon\n",
      "----->>>>polygon takes 1:22:11.145464 crawl total crawl 100001<<<<------\n"
     ]
    }
   ],
   "source": [
    "import snscrape.modules.twitter as sntwitter\n",
    "import pandas as pd\n",
    "import datetime\n",
    "\n",
    "#\"$uni\",\"uniswap\",\"$ont\",\"ontology\",\"$ada\",\"cordano\",\"$doge\",\"dogecoin\",\"$avax\",\"avalanche\",\"$dot\",\"polkadot\",\"$eth\",\"ethereum\",\"$sol\",\"solana\",\n",
    "tweet_hashtags=[\"cardano\",\"$bnb\",\"binance coin\",\"$matic\",\"polygon\"]\n",
    "tweets_df=pd.DataFrame()\n",
    "for hashtag in tweet_hashtags:\n",
    "    begin=datetime.datetime.now()\n",
    "    # Creating list to append tweet data to\n",
    "    tweets_list2 = []\n",
    "\n",
    "    # Using TwitterSearchScraper to scrape data and append tweets to list\n",
    "    for i,tweet in enumerate(sntwitter.TwitterSearchScraper(f'{hashtag} since:2021-12-01 until:2021-12-28').get_items()):\n",
    "        if i>100000:\n",
    "            break\n",
    "        tweets_list2.append([tweet.date, tweet.id, tweet.content, tweet.user.username])\n",
    "        if i%10000==0:\n",
    "            print(f\"{i}--{datetime.datetime.now()} everything is fine--{hashtag}\")\n",
    "    # Creating a dataframe from the tweets list above\n",
    "    tweets_df2 = pd.DataFrame(tweets_list2, columns=['Datetime', 'Tweet Id', 'Text', 'Username'])\n",
    "    \n",
    "    tweets_df2[\"hashtag\"]=hashtag\n",
    "    tweets_df=pd.concat([tweets_df,tweets_df2],ignore_index=True)\n",
    "    tweets_df2.to_csv(\"data/{}.csv\".format(hashtag))\n",
    "    end=datetime.datetime.now()\n",
    "   \n",
    "    print(f\"----->>>>{hashtag} takes {end-begin} crawl total crawl {i}<<<<------\")\n",
    "tweets_df.to_csv(\"alltweets4.csv\")  "
   ]
  },
  {
   "cell_type": "code",
   "execution_count": 4,
   "id": "7aa1106b",
   "metadata": {},
   "outputs": [],
   "source": [
    "tweets_df.to_csv(\"alltweets3.csv\")"
   ]
  }
 ],
 "metadata": {
  "kernelspec": {
   "display_name": "Python 3",
   "language": "python",
   "name": "python3"
  },
  "language_info": {
   "codemirror_mode": {
    "name": "ipython",
    "version": 3
   },
   "file_extension": ".py",
   "mimetype": "text/x-python",
   "name": "python",
   "nbconvert_exporter": "python",
   "pygments_lexer": "ipython3",
   "version": "3.8.8"
  }
 },
 "nbformat": 4,
 "nbformat_minor": 5
}
